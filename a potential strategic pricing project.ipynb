{
 "cells": [
  {
   "cell_type": "markdown",
   "id": "hollow-identification",
   "metadata": {},
   "source": [
    "# A potential strategic pricing project\n",
    "\n",
    "  Marketing programs\n",
    "  \n",
    "  Product enhancements\n",
    "  \n",
    "  Pricing changes\n",
    "  "
   ]
  },
  {
   "cell_type": "markdown",
   "id": "painted-memory",
   "metadata": {},
   "source": [
    "\n",
    "# key factors related to the delivery cost we have identified"
   ]
  },
  {
   "cell_type": "code",
   "execution_count": null,
   "id": "arctic-award",
   "metadata": {},
   "outputs": [],
   "source": []
  },
  {
   "cell_type": "code",
   "execution_count": null,
   "id": "nuclear-noise",
   "metadata": {},
   "outputs": [],
   "source": []
  },
  {
   "cell_type": "code",
   "execution_count": null,
   "id": "breeding-variation",
   "metadata": {},
   "outputs": [],
   "source": []
  },
  {
   "cell_type": "code",
   "execution_count": null,
   "id": "popular-thomas",
   "metadata": {},
   "outputs": [],
   "source": []
  },
  {
   "cell_type": "markdown",
   "id": "wanted-butter",
   "metadata": {},
   "source": [
    "# the models we have built and validated"
   ]
  },
  {
   "cell_type": "code",
   "execution_count": null,
   "id": "large-interaction",
   "metadata": {},
   "outputs": [],
   "source": []
  },
  {
   "cell_type": "code",
   "execution_count": null,
   "id": "oriented-input",
   "metadata": {},
   "outputs": [],
   "source": []
  },
  {
   "cell_type": "code",
   "execution_count": null,
   "id": "brief-trademark",
   "metadata": {},
   "outputs": [],
   "source": []
  },
  {
   "cell_type": "code",
   "execution_count": null,
   "id": "understanding-glory",
   "metadata": {},
   "outputs": [],
   "source": []
  },
  {
   "cell_type": "code",
   "execution_count": null,
   "id": "massive-collect",
   "metadata": {},
   "outputs": [],
   "source": []
  }
 ],
 "metadata": {
  "kernelspec": {
   "display_name": "Python 3",
   "language": "python",
   "name": "python3"
  },
  "language_info": {
   "codemirror_mode": {
    "name": "ipython",
    "version": 3
   },
   "file_extension": ".py",
   "mimetype": "text/x-python",
   "name": "python",
   "nbconvert_exporter": "python",
   "pygments_lexer": "ipython3",
   "version": "3.8.5"
  }
 },
 "nbformat": 4,
 "nbformat_minor": 5
}
